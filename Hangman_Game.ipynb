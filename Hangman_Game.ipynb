{
  "nbformat": 4,
  "nbformat_minor": 0,
  "metadata": {
    "colab": {
      "provenance": []
    },
    "kernelspec": {
      "name": "python3",
      "display_name": "Python 3"
    },
    "language_info": {
      "name": "python"
    }
  },
  "cells": [
    {
      "cell_type": "markdown",
      "source": [
        "## Hangman Game Code"
      ],
      "metadata": {
        "id": "Iozvny-cek0d"
      }
    },
    {
      "cell_type": "code",
      "source": [
        "import random\n",
        "\n",
        "word_list = ['ADVANCE','BENEVOLENCE','CONFIDENCE','MANAGEMENT','PYTHON','WINTER',\n",
        "             'SUMMER','LAPTOP','QUESTION','ZENITH','OPPENHEIMER','JAZZ']\n",
        "\n",
        "def get_word():                                   # define function - get_word() to pick word randomly from word_list\n",
        "  word = random.choice(word_list)\n",
        "  return word.upper()\n",
        "\n",
        "def display_hangman(tries) :                      # define function - display_hangman(tries) to display man based on tries left\n",
        "  hangman=[\"-----\",                               # hangman is list which is iterable so when tries=0 nothing displayed\n",
        "           \"  |  \",                               # when tries = 1 first element \"-----\" will be displayed\n",
        "           \"  O  \",                               # if tries = :4 then oth,1st,2nd and 3rd element will be displayed\n",
        "           \"_/|\\_\",                               # by using iterablity property of list , output is controlled.\n",
        "           \" / \\ \",\n",
        "           \"´   `\"]\n",
        "  return (\"\\n\".join(hangman[:tries]))             # to dsplay each element in new line \\n, to display as string joined with join() method\n",
        "\n",
        "def play(word):                                   # define function - play(word) to code hangman game\n",
        "  hidden_word = \"-\" * len(word)\n",
        "  guessed = False\n",
        "  guessed_letters = []                                     # to keep record of guessed or picked letter\n",
        "  tries = 6\n",
        "  print(\"Let's play Hangman!\")\n",
        "  print(\"\\n\")\n",
        "  print(f'hidden_word : {hidden_word}')\n",
        "  print(\"\\n\")\n",
        "\n",
        "  while not guessed and tries > 0:                          # loop continue untill word is guessed(intialize as false) or user out if tries\n",
        "    guess = input(\"Guess a letter : \").upper()\n",
        "\n",
        "                                                            ### 2 conditions based on possible input ###\n",
        "    if len(guess) == 1 and guess.isalpha() :                #### 1. guess has 1 letter and only letters ####\n",
        "\n",
        "        if guess in guessed_letters :                       ## 1.1 if picked letter is already guessed ##\n",
        "            print(f\"You already guessed the letter {guess}.\")\n",
        "        elif guess not in word :                            ## 1.2 if picked letter is not in word ##\n",
        "            tries -= 1\n",
        "            guessed_letters.append(guess)                     # add wrong guess : picked letter to : list - guessed_letters\n",
        "            print(f\"Wrong Guess! You are left with {tries} attemps.\")\n",
        "            print(display_hangman(6-tries))\n",
        "        else :                                              ## 1.3 if picked letter is in word ##\n",
        "            guessed_letters.append(guess)                     # add correct guess : picked letter to : list - guessed_letters\n",
        "            print(f\"Good Job!! Survived!!\")\n",
        "\n",
        "            word_as_list = list(hidden_word)                  # convert word into list which is then iterable\n",
        "            indices = [i for i,letter in enumerate(word) if letter == guess]    # to get index of guessed letter in correct word(word)\n",
        "            for index in indices :\n",
        "                word_as_list[index] = guess                             # use index to replace '-' by guess\n",
        "                hidden_word = \"\".join(word_as_list)                # if guess occurs more than once it will be added and not then next time\n",
        "\n",
        "            if \"-\" not in hidden_word :        # to exit while loop when word is gussed : '-' not in word : guesses which is false first now true\n",
        "                guessed = True\n",
        "\n",
        "    else :                                                          #### 2. guess is invalid input ####\n",
        "      print(\"!!!!Only a single LETTER, Please!!!!!\")\n",
        "\n",
        "    print(f'hidden_word : {hidden_word}')\n",
        "    print(\"=========================================================\")\n",
        "\n",
        "\n",
        "  if guessed :            # outside while print congrats or hanged based on gussesd = true or false\n",
        "    print(\"Congratulations, you guessed the word! you win!\")\n",
        "  else :\n",
        "    print(f\"HANGED!!! Sorry, you ran out of tries. \\nThe word was {word}. Maybe next time!\")\n",
        "\n",
        "\n",
        "def main():               # call word func and play func to play game, add while loop to continue game\n",
        "  word = get_word()\n",
        "  play(word)\n",
        "  print(\"\\n\")\n",
        "  while input(\"Play again? (Y/N)\").upper() == \"Y\" :\n",
        "    word = get_word()\n",
        "    play(word)\n",
        "\n",
        "\n",
        "if __name__ == \"__main__\" :    # calling main func to run script\n",
        "  main()"
      ],
      "metadata": {
        "colab": {
          "base_uri": "https://localhost:8080/"
        },
        "id": "02DUd-wXeiwq",
        "outputId": "1056d338-e77c-4587-c9ee-bf27ae41adce"
      },
      "execution_count": 2,
      "outputs": [
        {
          "name": "stdout",
          "output_type": "stream",
          "text": [
            "Let's play Hangman!\n",
            "\n",
            "\n",
            "hidden_word : ----\n",
            "\n",
            "\n",
            "Guess a letter : p\n",
            "Wrong Guess! You are left with 5 attemps.\n",
            "-----\n",
            "hidden_word : ----\n",
            "=========================================================\n",
            "Guess a letter : g\n",
            "Wrong Guess! You are left with 4 attemps.\n",
            "-----\n",
            "  |  \n",
            "hidden_word : ----\n",
            "=========================================================\n",
            "Guess a letter : j\n",
            "Good Job!! Survived!!\n",
            "hidden_word : J---\n",
            "=========================================================\n",
            "Guess a letter : z\n",
            "Good Job!! Survived!!\n",
            "hidden_word : J-ZZ\n",
            "=========================================================\n",
            "Guess a letter : a\n",
            "Good Job!! Survived!!\n",
            "hidden_word : JAZZ\n",
            "=========================================================\n",
            "Congratulations, you guessed the word! you win!\n",
            "\n",
            "\n",
            "Play again? (Y/N)n\n"
          ]
        }
      ]
    },
    {
      "cell_type": "markdown",
      "source": [],
      "metadata": {
        "id": "BMCL9_PUeXga"
      }
    }
  ]
}